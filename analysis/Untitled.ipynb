{
 "cells": [
  {
   "cell_type": "code",
   "execution_count": 1,
   "id": "eef42a6c",
   "metadata": {},
   "outputs": [],
   "source": [
    "import pandas as pd"
   ]
  },
  {
   "cell_type": "code",
   "execution_count": 2,
   "id": "445b2682",
   "metadata": {},
   "outputs": [
    {
     "data": {
      "text/html": [
       "<div>\n",
       "<style scoped>\n",
       "    .dataframe tbody tr th:only-of-type {\n",
       "        vertical-align: middle;\n",
       "    }\n",
       "\n",
       "    .dataframe tbody tr th {\n",
       "        vertical-align: top;\n",
       "    }\n",
       "\n",
       "    .dataframe thead th {\n",
       "        text-align: right;\n",
       "    }\n",
       "</style>\n",
       "<table border=\"1\" class=\"dataframe\">\n",
       "  <thead>\n",
       "    <tr style=\"text-align: right;\">\n",
       "      <th></th>\n",
       "      <th>Unnamed: 0</th>\n",
       "      <th>index</th>\n",
       "      <th>opening</th>\n",
       "      <th>closing</th>\n",
       "    </tr>\n",
       "  </thead>\n",
       "  <tbody>\n",
       "    <tr>\n",
       "      <th>0</th>\n",
       "      <td>0</td>\n",
       "      <td>2016-01</td>\n",
       "      <td>2040</td>\n",
       "      <td>3480</td>\n",
       "    </tr>\n",
       "    <tr>\n",
       "      <th>1</th>\n",
       "      <td>1</td>\n",
       "      <td>2016-02</td>\n",
       "      <td>2108</td>\n",
       "      <td>3340</td>\n",
       "    </tr>\n",
       "    <tr>\n",
       "      <th>2</th>\n",
       "      <td>2</td>\n",
       "      <td>2016-03</td>\n",
       "      <td>3181</td>\n",
       "      <td>4415</td>\n",
       "    </tr>\n",
       "    <tr>\n",
       "      <th>3</th>\n",
       "      <td>3</td>\n",
       "      <td>2016-04</td>\n",
       "      <td>3207</td>\n",
       "      <td>4178</td>\n",
       "    </tr>\n",
       "    <tr>\n",
       "      <th>4</th>\n",
       "      <td>4</td>\n",
       "      <td>2016-05</td>\n",
       "      <td>3067</td>\n",
       "      <td>4481</td>\n",
       "    </tr>\n",
       "    <tr>\n",
       "      <th>...</th>\n",
       "      <td>...</td>\n",
       "      <td>...</td>\n",
       "      <td>...</td>\n",
       "      <td>...</td>\n",
       "    </tr>\n",
       "    <tr>\n",
       "      <th>61</th>\n",
       "      <td>61</td>\n",
       "      <td>2021-02</td>\n",
       "      <td>4473</td>\n",
       "      <td>3214</td>\n",
       "    </tr>\n",
       "    <tr>\n",
       "      <th>62</th>\n",
       "      <td>62</td>\n",
       "      <td>2021-03</td>\n",
       "      <td>6116</td>\n",
       "      <td>4396</td>\n",
       "    </tr>\n",
       "    <tr>\n",
       "      <th>63</th>\n",
       "      <td>63</td>\n",
       "      <td>2021-04</td>\n",
       "      <td>6838</td>\n",
       "      <td>5530</td>\n",
       "    </tr>\n",
       "    <tr>\n",
       "      <th>64</th>\n",
       "      <td>64</td>\n",
       "      <td>2021-05</td>\n",
       "      <td>5800</td>\n",
       "      <td>4948</td>\n",
       "    </tr>\n",
       "    <tr>\n",
       "      <th>65</th>\n",
       "      <td>65</td>\n",
       "      <td>2021-06</td>\n",
       "      <td>6254</td>\n",
       "      <td>4904</td>\n",
       "    </tr>\n",
       "  </tbody>\n",
       "</table>\n",
       "<p>66 rows × 4 columns</p>\n",
       "</div>"
      ],
      "text/plain": [
       "    Unnamed: 0    index  opening  closing\n",
       "0            0  2016-01     2040     3480\n",
       "1            1  2016-02     2108     3340\n",
       "2            2  2016-03     3181     4415\n",
       "3            3  2016-04     3207     4178\n",
       "4            4  2016-05     3067     4481\n",
       "..         ...      ...      ...      ...\n",
       "61          61  2021-02     4473     3214\n",
       "62          62  2021-03     6116     4396\n",
       "63          63  2021-04     6838     5530\n",
       "64          64  2021-05     5800     4948\n",
       "65          65  2021-06     6254     4904\n",
       "\n",
       "[66 rows x 4 columns]"
      ]
     },
     "execution_count": 2,
     "metadata": {},
     "output_type": "execute_result"
    }
   ],
   "source": [
    "df = pd.read_csv('../data/openingclosing.csv')\n",
    "df"
   ]
  },
  {
   "cell_type": "code",
   "execution_count": 8,
   "id": "1b47fb1e",
   "metadata": {
    "scrolled": true
   },
   "outputs": [
    {
     "data": {
      "text/plain": [
       "[2040,\n",
       " 2108,\n",
       " 3181,\n",
       " 3207,\n",
       " 3067,\n",
       " 3076,\n",
       " 2827,\n",
       " 2879,\n",
       " 2696,\n",
       " 3069,\n",
       " 3384,\n",
       " 2953,\n",
       " 2193,\n",
       " 2669,\n",
       " 3519,\n",
       " 3331,\n",
       " 3273,\n",
       " 3507,\n",
       " 3202,\n",
       " 3390,\n",
       " 3705,\n",
       " 2695,\n",
       " 3597,\n",
       " 3155,\n",
       " 2868,\n",
       " 2584,\n",
       " 3593,\n",
       " 4235,\n",
       " 3988,\n",
       " 3801,\n",
       " 3891,\n",
       " 3701,\n",
       " 3099,\n",
       " 4385,\n",
       " 4213,\n",
       " 3602,\n",
       " 3605,\n",
       " 3242,\n",
       " 4528,\n",
       " 5076,\n",
       " 4709,\n",
       " 4316,\n",
       " 4571,\n",
       " 4307,\n",
       " 4114,\n",
       " 5090,\n",
       " 5104,\n",
       " 4441,\n",
       " 4044,\n",
       " 4121,\n",
       " 4392,\n",
       " 4393,\n",
       " 4733,\n",
       " 5551,\n",
       " 5843,\n",
       " 5239,\n",
       " 5446,\n",
       " 5209,\n",
       " 5760,\n",
       " 5300,\n",
       " 4541,\n",
       " 4473,\n",
       " 6116,\n",
       " 6838,\n",
       " 5800,\n",
       " 6254]"
      ]
     },
     "execution_count": 8,
     "metadata": {},
     "output_type": "execute_result"
    }
   ],
   "source": [
    "df['opening'].tolist()"
   ]
  },
  {
   "cell_type": "code",
   "execution_count": 4,
   "id": "7014e874",
   "metadata": {},
   "outputs": [
    {
     "data": {
      "text/plain": [
       "'C:\\\\develops\\\\bigdata-project\\\\Statistics-COVID-19\\\\analysis'"
      ]
     },
     "execution_count": 4,
     "metadata": {},
     "output_type": "execute_result"
    }
   ],
   "source": [
    "import os\n",
    "os.getcwd()"
   ]
  },
  {
   "cell_type": "code",
   "execution_count": 5,
   "id": "1987667f",
   "metadata": {},
   "outputs": [
    {
     "data": {
      "text/plain": [
       "False"
      ]
     },
     "execution_count": 5,
     "metadata": {},
     "output_type": "execute_result"
    }
   ],
   "source": [
    "os.path.isfile(\"openingclosing.csv\")"
   ]
  },
  {
   "cell_type": "code",
   "execution_count": null,
   "id": "24e96a4e",
   "metadata": {},
   "outputs": [],
   "source": []
  }
 ],
 "metadata": {
  "kernelspec": {
   "display_name": "Python 3",
   "language": "python",
   "name": "python3"
  },
  "language_info": {
   "codemirror_mode": {
    "name": "ipython",
    "version": 3
   },
   "file_extension": ".py",
   "mimetype": "text/x-python",
   "name": "python",
   "nbconvert_exporter": "python",
   "pygments_lexer": "ipython3",
   "version": "3.8.8"
  }
 },
 "nbformat": 4,
 "nbformat_minor": 5
}
